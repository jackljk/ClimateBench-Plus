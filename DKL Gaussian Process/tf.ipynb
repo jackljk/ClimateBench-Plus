{
 "cells": [
  {
   "cell_type": "code",
   "execution_count": 1,
   "metadata": {},
   "outputs": [
    {
     "name": "stderr",
     "output_type": "stream",
     "text": [
      "C:\\Users\\16195\\AppData\\Local\\Temp\\ipykernel_80312\\1374887712.py:3: DeprecationWarning: \n",
      "Pyarrow will become a required dependency of pandas in the next major release of pandas (pandas 3.0),\n",
      "(to allow more performant data types, such as the Arrow string type, and better interoperability with other libraries)\n",
      "but was not found to be installed on your system.\n",
      "If this would cause problems for you,\n",
      "please provide us feedback at https://github.com/pandas-dev/pandas/issues/54466\n",
      "        \n",
      "  import pandas as pd\n"
     ]
    },
    {
     "name": "stdout",
     "output_type": "stream",
     "text": [
      "WARNING:tensorflow:From c:\\Users\\16195\\anaconda3\\envs\\ClimateBench\\lib\\site-packages\\keras\\src\\losses.py:2976: The name tf.losses.sparse_softmax_cross_entropy is deprecated. Please use tf.compat.v1.losses.sparse_softmax_cross_entropy instead.\n",
      "\n"
     ]
    }
   ],
   "source": [
    "    import os\n",
    "    import numpy as np\n",
    "    import pandas as pd\n",
    "    import xarray as xr\n",
    "    import matplotlib.pyplot as plt\n",
    "    from matplotlib import colors\n",
    "    from eofs.xarray import Eof\n",
    "    from esem import gp_model\n",
    "    import seaborn as sns\n",
    "    import cartopy.crs as ccrs\n",
    "    from gp_helpers_from_reproduction import *\n",
    "\n",
    "    import warnings\n",
    "\n",
    "    warnings.filterwarnings(\"ignore\")"
   ]
  },
  {
   "cell_type": "code",
   "execution_count": 2,
   "metadata": {},
   "outputs": [],
   "source": [
    "files = [\"ssp126\", \"ssp585\", \"historical\", \"hist-GHG\"]\n",
    "# Create training and testing arrays\n",
    "X_train, pca_solvers = makeXTrain_PCASolvers(files)\n",
    "y_train_tas = makeYTrain(files)['tas'].values.reshape(-1, 96 * 144)\n",
    "\n",
    "X_test = makeXTest('ssp245', pca_solvers)\n",
    "Y_test = xr.open_dataset(data_path + 'outputs_ssp245.nc').compute()\n",
    "tas_truth = Y_test[\"tas\"].mean('member')"
   ]
  },
  {
   "cell_type": "code",
   "execution_count": 3,
   "metadata": {},
   "outputs": [],
   "source": [
    "# Removing NaNs \n",
    "nan_train_mask, nan_test_mask = X_train.isna().any(axis=1).values, X_test.isna().any(axis=1).values\n",
    "X_train, X_test = X_train.dropna(axis=0, how='any'), X_test.dropna(axis=0, how='any')\n",
    "y_train_tas, tas_truth = y_train_tas[~nan_train_mask], tas_truth[~nan_test_mask]"
   ]
  },
  {
   "cell_type": "code",
   "execution_count": 4,
   "metadata": {},
   "outputs": [],
   "source": [
    "# Standardizing data for data that is not EOFs/PCA\n",
    "X_train_CO2_mean, X_test_CO2_mean = X_train['CO2'].mean(), X_test['CO2'].mean()\n",
    "X_train_CO2_std, X_test_CO2_std = X_train['CO2'].std(), X_test['CO2'].std()\n",
    "\n",
    "X_train_CH4_mean, X_test_CH4_mean = X_train['CH4'].mean(), X_test['CH4'].mean()\n",
    "X_train_CH4_std, X_test_CH4_std = X_train['CH4'].std(), X_test['CH4'].std()\n",
    "\n",
    "X_train['CO2'] = (X_train['CO2'] - X_train_CO2_mean) / X_train_CO2_std\n",
    "X_test['CO2'] = (X_test['CO2'] - X_test_CO2_mean) / X_test_CO2_std\n",
    "\n",
    "X_train['CH4'] = (X_train['CH4'] - X_train_CH4_mean) / X_train_CH4_std\n",
    "X_test['CH4'] = (X_test['CH4'] - X_test_CH4_mean) / X_test_CH4_std\n",
    "\n",
    "# Standardizing y_train\n",
    "y_train_tas_mean, y_train_tas_std = y_train_tas.mean(), y_train_tas.std()\n",
    "y_train_tas = (y_train_tas - y_train_tas_mean) / y_train_tas_std"
   ]
  },
  {
   "cell_type": "markdown",
   "metadata": {},
   "source": [
    "# Model"
   ]
  },
  {
   "cell_type": "code",
   "execution_count": 5,
   "metadata": {},
   "outputs": [
    {
     "data": {
      "text/plain": [
       "((502, 12), (502, 13824))"
      ]
     },
     "execution_count": 5,
     "metadata": {},
     "output_type": "execute_result"
    }
   ],
   "source": [
    "X_train.shape, y_train_tas.shape"
   ]
  },
  {
   "cell_type": "code",
   "execution_count": 6,
   "metadata": {},
   "outputs": [
    {
     "name": "stdout",
     "output_type": "stream",
     "text": [
      "WARNING:tensorflow:From c:\\Users\\16195\\anaconda3\\envs\\ClimateBench\\lib\\site-packages\\tensorflow_probability\\python\\internal\\backend\\numpy\\_utils.py:48: The name tf.logging.TaskLevelStatusMessage is deprecated. Please use tf.compat.v1.logging.TaskLevelStatusMessage instead.\n",
      "\n",
      "WARNING:tensorflow:From c:\\Users\\16195\\anaconda3\\envs\\ClimateBench\\lib\\site-packages\\tensorflow_probability\\python\\internal\\backend\\numpy\\_utils.py:48: The name tf.control_flow_v2_enabled is deprecated. Please use tf.compat.v1.control_flow_v2_enabled instead.\n",
      "\n"
     ]
    }
   ],
   "source": [
    "import tensorflow as tf\n",
    "import matplotlib.pyplot as plt\n",
    "\n",
    "import gpflow\n",
    "import gpflux\n",
    "\n",
    "from gpflow.config import default_float\n"
   ]
  },
  {
   "cell_type": "code",
   "execution_count": 7,
   "metadata": {},
   "outputs": [
    {
     "name": "stdout",
     "output_type": "stream",
     "text": [
      "WARNING:tensorflow:From c:\\Users\\16195\\anaconda3\\envs\\ClimateBench\\lib\\site-packages\\keras\\src\\backend.py:873: The name tf.get_default_graph is deprecated. Please use tf.compat.v1.get_default_graph instead.\n",
      "\n"
     ]
    }
   ],
   "source": [
    "num_data = len(X_train)\n",
    "num_inducing = 10\n",
    "output_dim = y_train_tas.shape[1]\n",
    "\n",
    "kernel = gpflow.kernels.SquaredExponential()\n",
    "inducing_variable = gpflow.inducing_variables.InducingPoints(\n",
    "    np.linspace(X_train.min(), X_train.max(), num_inducing).reshape(-1, 1)\n",
    ")\n",
    "gp_layer = gpflux.layers.GPLayer(\n",
    "    kernel, inducing_variable, num_data=num_data, num_latent_gps=output_dim\n",
    ")"
   ]
  },
  {
   "cell_type": "code",
   "execution_count": null,
   "metadata": {},
   "outputs": [],
   "source": [
    "likelihood = gpflow.likelihoods.Gaussian(0.1)\n",
    "\n",
    "# So that Keras can track the likelihood variance, we need to provide the likelihood as part of a \"dummy\" layer:\n",
    "likelihood_container = gpflux.layers.TrackableLayer()\n",
    "likelihood_container.likelihood = likelihood\n",
    "\n",
    "model = tf.keras.Sequential(\n",
    "    [\n",
    "        tf.keras.layers.Dense(100, activation=\"relu\"),\n",
    "        tf.keras.layers.Dense(100, activation=\"relu\"),\n",
    "        tf.keras.layers.Dense(1, activation=\"linear\"),\n",
    "        gp_layer,\n",
    "        likelihood_container,  # no-op, for discovering trainable likelihood parameters\n",
    "    ]\n",
    ")\n",
    "loss = gpflux.losses.LikelihoodLoss(likelihood)"
   ]
  },
  {
   "cell_type": "code",
   "execution_count": null,
   "metadata": {},
   "outputs": [
    {
     "name": "stdout",
     "output_type": "stream",
     "text": [
      "WARNING:tensorflow:From c:\\Users\\16195\\anaconda3\\envs\\ClimateBench\\lib\\site-packages\\keras\\src\\optimizers\\__init__.py:309: The name tf.train.Optimizer is deprecated. Please use tf.compat.v1.train.Optimizer instead.\n",
      "\n"
     ]
    }
   ],
   "source": [
    "model.compile(loss=loss, optimizer=\"adam\")"
   ]
  },
  {
   "cell_type": "code",
   "execution_count": null,
   "metadata": {},
   "outputs": [
    {
     "name": "stdout",
     "output_type": "stream",
     "text": [
      "WARNING:tensorflow:From c:\\Users\\16195\\anaconda3\\envs\\ClimateBench\\lib\\site-packages\\keras\\src\\utils\\tf_utils.py:492: The name tf.ragged.RaggedTensorValue is deprecated. Please use tf.compat.v1.ragged.RaggedTensorValue instead.\n",
      "\n"
     ]
    }
   ],
   "source": [
    "hist = model.fit(X_train, y_train_tas, epochs=500, verbose=1)\n",
    "plt.plot(hist.history[\"loss\"])"
   ]
  },
  {
   "cell_type": "code",
   "execution_count": null,
   "metadata": {},
   "outputs": [],
   "source": []
  },
  {
   "cell_type": "code",
   "execution_count": null,
   "metadata": {},
   "outputs": [],
   "source": []
  },
  {
   "cell_type": "code",
   "execution_count": null,
   "metadata": {},
   "outputs": [],
   "source": []
  }
 ],
 "metadata": {
  "kernelspec": {
   "display_name": "ClimateBench",
   "language": "python",
   "name": "python3"
  },
  "language_info": {
   "codemirror_mode": {
    "name": "ipython",
    "version": 3
   },
   "file_extension": ".py",
   "mimetype": "text/x-python",
   "name": "python",
   "nbconvert_exporter": "python",
   "pygments_lexer": "ipython3",
   "version": "3.10.13"
  }
 },
 "nbformat": 4,
 "nbformat_minor": 2
}
