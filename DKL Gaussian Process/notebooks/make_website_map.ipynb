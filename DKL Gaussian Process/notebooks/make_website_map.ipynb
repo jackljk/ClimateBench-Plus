{
 "cells": [
  {
   "cell_type": "code",
   "execution_count": null,
   "metadata": {},
   "outputs": [],
   "source": [
    "import matplotlib.pyplot as plt\n",
    "import cartopy.crs as ccrs\n",
    "import xarray as xr\n",
    "import os\n",
    "\n",
    "from glob import glob\n",
    "import seaborn as sns\n",
    "\n",
    "import numpy as np\n",
    "import pandas as pd\n",
    "\n",
    "from xskillscore import rmse\n",
    "\n",
    "import cartopy\n",
    "import cartopy.crs as ccrs\n",
    "import cartopy.feature as cfeature\n",
    "from cartopy.mpl.gridliner import LONGITUDE_FORMATTER, LATITUDE_FORMATTER\n",
    "cartopy.config['data_dir'] = os.getenv('CARTOPY_DIR', cartopy.config.get('data_dir'))\n",
    "\n",
    "import cmocean\n",
    "\n",
    "import holoviews as hv\n",
    "from holoviews import opts, dim\n",
    "\n",
    "import geoviews as gv\n",
    "import geoviews.feature as gf\n",
    "from cartopy import crs\n",
    "\n",
    "gv.extension('bokeh')\n",
    "\n",
    "import warnings\n",
    "warnings.filterwarnings(\"ignore\", category=RuntimeWarning) "
   ]
  },
  {
   "cell_type": "code",
   "execution_count": null,
   "metadata": {},
   "outputs": [],
   "source": [
    "variables = ['dtr', 'pr', 'pr90', 'tas'] # variables in alphabetical order\n",
    "\n",
    "# Get the observed data\n",
    "Y = xr.open_dataset('results/validations/outputs_ssp245.nc')\n",
    "\n",
    "# rename diundamental temperature range to dtr for consistency\n",
    "Y = Y.rename({'diurnal_temperature_range': 'dtr'})\n",
    "\n",
    "# Convert the precip values to mm/day\n",
    "Y[\"pr\"] *= 86400\n",
    "Y[\"pr90\"] *= 86400\n",
    "Y = Y.mean('member')\n",
    "NorESM_data = {\n",
    "    var: Y[var] for var in variables\n",
    "}"
   ]
  },
  {
   "cell_type": "code",
   "execution_count": null,
   "metadata": {},
   "outputs": [],
   "source": [
    "def get_plot(var):\n",
    "    d_name = {\n",
    "        'tas': 'Temperature',\n",
    "        'dtr': 'Diurnal temperature range',\n",
    "        'pr': 'Precipitation',\n",
    "        'pr90': '90th percentile of precipitation'\n",
    "    }\n",
    "    d_kwargs = {\n",
    "        'tas': dict(cmap=\"coolwarm\", clim=(-5, 5)),\n",
    "        'dtr': dict(cmap=\"coolwarm\", clim=(-2, 2)),\n",
    "        'pr': dict(cmap=\"BrBG\", clim=(-4, 4)),\n",
    "        'pr90': dict(cmap=\"BrBG\", clim=(-8, 8))\n",
    "    }\n",
    "    d_labels = {\n",
    "        'tas': \"Temperature (K)\",\n",
    "        'dtr': \"Diurnal temperature range (K)\",\n",
    "        'pr': \"Precipitation (mm/day)\",\n",
    "        'pr90': \"Extreme precipitation (mm/day)\"\n",
    "    }\n",
    "    ds = gv.Dataset(Y[var], ['lon', 'lat', 'time'], var, crs=crs.PlateCarree())\n",
    "\n",
    "    hv.output(widget_location='bottom')\n",
    "\n",
    "    coastline = gf.coastline().opts(projection=ccrs.Robinson())\n",
    "\n",
    "    im = ds.to(gv.Image, ['lon', 'lat'], var, dynamic=True)\\\n",
    "        .opts(colorbar=True, width=800, height=500, title=f'Mean {d_name[var]} in {d_labels[var]}', **d_kwargs[var])\n",
    "    \n",
    "    return im * coastline"
   ]
  },
  {
   "cell_type": "code",
   "execution_count": null,
   "metadata": {},
   "outputs": [],
   "source": [
    "dmap = hv.DynamicMap(get_plot, kdims=['var']).redim.values(Dataset=['tas', 'pr', 'dtr', 'pr90'])"
   ]
  },
  {
   "cell_type": "code",
   "execution_count": null,
   "metadata": {},
   "outputs": [],
   "source": [
    "# hv.save(dmap['pr90'], 'results/figures/pr90_mean_maps', fmt='html')"
   ]
  },
  {
   "cell_type": "code",
   "execution_count": null,
   "metadata": {},
   "outputs": [],
   "source": []
  }
 ],
 "metadata": {
  "language_info": {
   "name": "python"
  }
 },
 "nbformat": 4,
 "nbformat_minor": 2
}
